{
 "cells": [
  {
   "cell_type": "code",
   "execution_count": 1,
   "metadata": {},
   "outputs": [],
   "source": [
    "import struct\n",
    "import os\n",
    "\n",
    "tot_items = 1000\n",
    "topk = 10"
   ]
  },
  {
   "cell_type": "code",
   "execution_count": 2,
   "metadata": {},
   "outputs": [
    {
     "name": "stdout",
     "output_type": "stream",
     "text": [
      "128\n"
     ]
    }
   ],
   "source": [
    "vec_file = \"../siftsmall/siftsmall_base.fvecs\"\n",
    "items = []\n",
    "\n",
    "with open(vec_file, \"rb\") as f:\n",
    "    dim = struct.unpack('i', f.read(4))[0]\n",
    "    print(dim)\n",
    "    f.seek(0) # seek back to 0, every row has a header containing the dim\n",
    "    \n",
    "    f_size = os.path.getsize(\"../siftsmall/siftsmall_base.fvecs\")\n",
    "    vec_cnt = f_size // ((dim + 1) * 4)\n",
    "\n",
    "    for v in range(vec_cnt):\n",
    "        f.read(4) # row header\n",
    "        # for some reason unpack is misbehaving, need to unpack one by one...\n",
    "        items.append([struct.unpack('f', f.read(4))[0] for _ in range(dim)])"
   ]
  },
  {
   "cell_type": "code",
   "execution_count": 3,
   "metadata": {},
   "outputs": [],
   "source": [
    "from hnsw import HNSWIndex\n",
    "\n",
    "hnsw_ = HNSWIndex(M=32, ef_construction=100)\n",
    "for v in range(tot_items):\n",
    "    hnsw_.Insert(items[v])"
   ]
  },
  {
   "cell_type": "code",
   "execution_count": 4,
   "metadata": {},
   "outputs": [],
   "source": [
    "from bruteforce import BruteForce\n",
    "\n",
    "bf = BruteForce(items[:tot_items])\n",
    "bf_res = bf.RunSearch(items[:tot_items], topk)"
   ]
  },
  {
   "cell_type": "code",
   "execution_count": 5,
   "metadata": {},
   "outputs": [
    {
     "name": "stdout",
     "output_type": "stream",
     "text": [
      "Recall@ 10 1.0\n"
     ]
    }
   ],
   "source": [
    "correct = 0\n",
    "\n",
    "for i in range(tot_items):\n",
    "    # print(hnsw_.KNNSearch(items[i], 10))\n",
    "    res = hnsw_.KNNSearch(items[i], topk)\n",
    "    for l, r in zip(res, bf_res[i]):\n",
    "        if l[0] == r[0] and l[1] == r[1]:\n",
    "            correct += 1\n",
    "print(\"Recall@\", topk, correct / (topk * tot_items))\n",
    "      \n",
    "# for l in range(hnsw_.graph.GetHeight()):\n",
    "#     hnsw_.graph.PrintLayer(l)"
   ]
  }
 ],
 "metadata": {
  "kernelspec": {
   "display_name": "venv",
   "language": "python",
   "name": "venv"
  },
  "language_info": {
   "codemirror_mode": {
    "name": "ipython",
    "version": 3
   },
   "file_extension": ".py",
   "mimetype": "text/x-python",
   "name": "python",
   "nbconvert_exporter": "python",
   "pygments_lexer": "ipython3",
   "version": "3.9.16"
  }
 },
 "nbformat": 4,
 "nbformat_minor": 2
}
